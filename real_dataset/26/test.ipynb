{
 "cells": [
  {
   "cell_type": "code",
   "execution_count": 1,
   "id": "initial_id",
   "metadata": {
    "collapsed": true,
    "ExecuteTime": {
     "end_time": "2025-06-27T18:10:34.542652Z",
     "start_time": "2025-06-27T18:10:33.572687Z"
    },
    "pycharm": {
     "name": "#%%\n"
    }
   },
   "outputs": [],
   "source": [
    "import libsbml\n",
    "from utils import functions\n",
    "from utils import graph_functions\n",
    "from utils import complete_tests\n",
    "import random\n",
    "from collections import defaultdict\n",
    "from copy import deepcopy\n",
    "import os\n",
    "import pickle\n",
    "import numpy as np"
   ]
  },
  {
   "cell_type": "code",
   "outputs": [],
   "source": [
    "description = {\n",
    "    'species': [],\n",
    "    'reactions': [],\n",
    "    'connections': [],\n",
    "    'altered': ''\n",
    "}"
   ],
   "metadata": {
    "collapsed": false,
    "ExecuteTime": {
     "end_time": "2024-11-22T21:23:25.964167Z",
     "start_time": "2024-11-22T21:23:25.956808Z"
    },
    "pycharm": {
     "name": "#%%\n"
    }
   },
   "id": "ec56f8e4ba57104",
   "execution_count": 2
  },
  {
   "cell_type": "code",
   "outputs": [],
   "source": [
    "def alter_pathway(input_filename, output_filename, alterations):\n",
    "    reader = libsbml.SBMLReader()\n",
    "    document = reader.readSBML(input_filename)\n",
    "    model = document.getModel()\n",
    "\n",
    "    for i in range(model.getNumParameters()):\n",
    "        param = model.getParameter(i)\n",
    "        if param.getId() == alterations:\n",
    "            previous_value = param.getValue()\n",
    "            param.setValue(previous_value * 100)\n",
    "            modified_sbml = libsbml.writeSBML(document, output_filename)\n",
    "            return "
   ],
   "metadata": {
    "collapsed": false,
    "ExecuteTime": {
     "end_time": "2024-11-22T21:23:27.618828Z",
     "start_time": "2024-11-22T21:23:27.616634Z"
    },
    "pycharm": {
     "name": "#%%\n"
    }
   },
   "id": "418724a2391dadcb",
   "execution_count": 3
  },
  {
   "cell_type": "code",
   "outputs": [],
   "source": [
    "def generate_test_set(filename):\n",
    "    reader = libsbml.SBMLReader()\n",
    "    document = reader.readSBML(filename)\n",
    "    model = document.getModel()\n",
    "    \n",
    "    for i in range(model.getNumParameters()):\n",
    "        base_dir = 'altered_pathways2'\n",
    "        alteration_dir = os.path.join(base_dir, 'reaction_' + str(i))\n",
    "        file_dir = os.path.join(alteration_dir, 'reaction_' + str(i) + '100x.xml')\n",
    "        os.makedirs(alteration_dir, exist_ok=True)\n",
    "        \n",
    "        param = model.getParameter(i)\n",
    "\n",
    "        alter_pathway(filename, file_dir, param.getId())"
   ],
   "metadata": {
    "collapsed": false,
    "ExecuteTime": {
     "end_time": "2024-11-22T21:23:28.617824Z",
     "start_time": "2024-11-22T21:23:28.612551Z"
    },
    "pycharm": {
     "name": "#%%\n"
    }
   },
   "id": "a8871cb9eee16d44",
   "execution_count": 4
  },
  {
   "cell_type": "code",
   "outputs": [],
   "source": [
    "generate_test_set('BIOMD0000000026.xml')"
   ],
   "metadata": {
    "collapsed": false,
    "ExecuteTime": {
     "end_time": "2024-11-22T21:23:31.579466Z",
     "start_time": "2024-11-22T21:23:31.507551Z"
    },
    "pycharm": {
     "name": "#%%\n"
    }
   },
   "id": "d17cc220e6da4fc6",
   "execution_count": 5
  },
  {
   "cell_type": "code",
   "outputs": [],
   "source": [
    "def convert_sbml_to_network(file_path):\n",
    "    \n",
    "    reader = libsbml.SBMLReader()\n",
    "    document = reader.readSBML(file_path)\n",
    "    if document.getNumErrors() > 0:\n",
    "        print(\"Errors occurred while loading the SBML file.\")\n",
    "    model = document.getModel()\n",
    "    \n",
    "    num_reactions = model.getNumReactions()\n",
    "    num_species = model.getNumSpecies()\n",
    "    \n",
    "    print('number reactions', model.getNumReactions())\n",
    "    print('number species', model.getNumSpecies()) \n",
    "    \n",
    "    for i in range(num_species):\n",
    "        description['species'].append(model.getSpecies(i).getId())\n",
    "    \n",
    "    for i in range(num_reactions):\n",
    "        description['reactions'].append([model.getReaction(i).getId(), 0, 1])\n",
    "        num_reactants = model.getReaction(i).getNumReactants()\n",
    "        num_products = model.getReaction(i).getNumProducts()\n",
    "        formula = model.getReaction(i).getKineticLaw().getFormula()\n",
    "        formula = formula.replace('(','')\n",
    "        formula = formula.replace(' ', '')\n",
    "        formula_splitted = formula.split('-')\n",
    "        \n",
    "        if len(formula_splitted) >= 2:\n",
    "            description['reactions'].append([str(model.getReaction(i).getId() + 'revert'), 0, 1])\n",
    "        \n",
    "        for j in range(num_reactants):\n",
    "            reactant = model.getReaction(i).getReactant(j).getSpecies()\n",
    "            description['connections'].append([reactant, model.getReaction(i).getId()])\n",
    "            if len(formula_splitted) == 2:\n",
    "                description['connections'].append([str(model.getReaction(i).getId() + 'revert'), reactant])\n",
    "            \n",
    "        for k in range(num_products):\n",
    "            product = model.getReaction(i).getProduct(k).getSpecies()\n",
    "            description['connections'].append([model.getReaction(i).getId(), product])\n",
    "            if len(formula_splitted) == 2:\n",
    "                description['connections'].append([product, str(model.getReaction(i).getId() + 'revert')])"
   ],
   "metadata": {
    "collapsed": false,
    "ExecuteTime": {
     "end_time": "2024-11-22T21:23:35.882389Z",
     "start_time": "2024-11-22T21:23:35.874142Z"
    },
    "pycharm": {
     "name": "#%%\n"
    }
   },
   "id": "ca5f41586a62848f",
   "execution_count": 6
  },
  {
   "cell_type": "code",
   "outputs": [
    {
     "name": "stdout",
     "output_type": "stream",
     "text": [
      "number reactions 10\n",
      "number species 11\n"
     ]
    }
   ],
   "source": [
    "convert_sbml_to_network('BIOMD0000000026.xml')"
   ],
   "metadata": {
    "collapsed": false,
    "ExecuteTime": {
     "end_time": "2024-11-22T21:23:37.341299Z",
     "start_time": "2024-11-22T21:23:37.335295Z"
    },
    "pycharm": {
     "name": "#%%\n"
    }
   },
   "id": "92c32003be3ce724",
   "execution_count": 7
  },
  {
   "cell_type": "code",
   "outputs": [],
   "source": [
    "for i in range(len(description['reactions'])):\n",
    "    desc = deepcopy(description)\n",
    "    desc['altered'] = desc['reactions'][i][0]\n",
    "    base_dir = 'altered_pathways2'\n",
    "    alteration_dir = os.path.join(base_dir, 'reaction_' + str(i))\n",
    "    description_path = os.path.join(alteration_dir, 'description')\n",
    "    description_file = open(description_path, 'wb')\n",
    "    pickle.dump(desc, description_file)\n",
    "    description_file.close()\n",
    "    "
   ],
   "metadata": {
    "collapsed": false,
    "ExecuteTime": {
     "end_time": "2024-11-22T21:23:40.234665Z",
     "start_time": "2024-11-22T21:23:40.225399Z"
    },
    "pycharm": {
     "name": "#%%\n"
    }
   },
   "id": "d9ac215c6498a8cd",
   "execution_count": 8
  },
  {
   "cell_type": "code",
   "outputs": [
    {
     "data": {
      "text/plain": "{'species': ['M',\n  'Mp',\n  'Mpp',\n  'MAPKK',\n  'MKP3',\n  'M_MAPKK',\n  'Mp_MAPKK',\n  'Mpp_MKP3',\n  'Mp_MKP3_dep',\n  'Mp_MKP3',\n  'M_MKP3'],\n 'reactions': [['v1a', 0, 1],\n  ['v1arevert', 0, 1],\n  ['v1b', 0, 1],\n  ['v2a', 0, 1],\n  ['v2arevert', 0, 1],\n  ['v2b', 0, 1],\n  ['v3a', 0, 1],\n  ['v3arevert', 0, 1],\n  ['v3b', 0, 1],\n  ['v3c', 0, 1],\n  ['v3crevert', 0, 1],\n  ['v4a', 0, 1],\n  ['v4arevert', 0, 1],\n  ['v4b', 0, 1],\n  ['v4c', 0, 1],\n  ['v4crevert', 0, 1]],\n 'connections': [['M', 'v1a'],\n  ['v1arevert', 'M'],\n  ['MAPKK', 'v1a'],\n  ['v1arevert', 'MAPKK'],\n  ['v1a', 'M_MAPKK'],\n  ['M_MAPKK', 'v1arevert'],\n  ['M_MAPKK', 'v1b'],\n  ['v1b', 'Mp'],\n  ['v1b', 'MAPKK'],\n  ['Mp', 'v2a'],\n  ['v2arevert', 'Mp'],\n  ['MAPKK', 'v2a'],\n  ['v2arevert', 'MAPKK'],\n  ['v2a', 'Mp_MAPKK'],\n  ['Mp_MAPKK', 'v2arevert'],\n  ['Mp_MAPKK', 'v2b'],\n  ['v2b', 'Mpp'],\n  ['v2b', 'MAPKK'],\n  ['Mpp', 'v3a'],\n  ['v3arevert', 'Mpp'],\n  ['MKP3', 'v3a'],\n  ['v3arevert', 'MKP3'],\n  ['v3a', 'Mpp_MKP3'],\n  ['Mpp_MKP3', 'v3arevert'],\n  ['Mpp_MKP3', 'v3b'],\n  ['v3b', 'Mp_MKP3_dep'],\n  ['Mp_MKP3_dep', 'v3c'],\n  ['v3crevert', 'Mp_MKP3_dep'],\n  ['v3c', 'Mp'],\n  ['Mp', 'v3crevert'],\n  ['v3c', 'MKP3'],\n  ['MKP3', 'v3crevert'],\n  ['Mp', 'v4a'],\n  ['v4arevert', 'Mp'],\n  ['MKP3', 'v4a'],\n  ['v4arevert', 'MKP3'],\n  ['v4a', 'Mp_MKP3'],\n  ['Mp_MKP3', 'v4arevert'],\n  ['Mp_MKP3', 'v4b'],\n  ['v4b', 'M_MKP3'],\n  ['M_MKP3', 'v4c'],\n  ['v4crevert', 'M_MKP3'],\n  ['v4c', 'M'],\n  ['M', 'v4crevert'],\n  ['v4c', 'MKP3'],\n  ['MKP3', 'v4crevert']],\n 'altered': 'v2arevert'}"
     },
     "execution_count": 9,
     "metadata": {},
     "output_type": "execute_result"
    }
   ],
   "source": [
    "desc_path = 'altered_pathways2/reaction_4/description'\n",
    "desc_file = open(desc_path, 'rb')\n",
    "temp = pickle.load(desc_file)\n",
    "desc_file.close()\n",
    "temp"
   ],
   "metadata": {
    "collapsed": false,
    "ExecuteTime": {
     "end_time": "2024-11-22T21:23:42.705951Z",
     "start_time": "2024-11-22T21:23:42.701483Z"
    },
    "pycharm": {
     "name": "#%%\n"
    }
   },
   "id": "d87bbcb83c01f161",
   "execution_count": 9
  },
  {
   "cell_type": "code",
   "outputs": [
    {
     "name": "stdout",
     "output_type": "stream",
     "text": [
      "Converged at time 6792.0\n",
      "Converged at time 7974.0\n",
      "Specie:  M expected result:  decreased  normal final:  323.7613772367963  altered final:  8.148296173275313\n",
      "confidence interval:  [0.5318330143063276, 0.5439597669586405]\n",
      "deltas coming from simulation:  [-315.613081063521, 0]\n",
      "Specie:  Mp expected result:  decreased  normal final:  9.496206386452487  altered final:  4.8464454526800855\n",
      "confidence interval:  [0.09906314070255157, 0.10815952911213307]\n",
      "deltas coming from simulation:  [-4.649760933772401, 0]\n",
      "Specie:  Mpp expected result:  increased  normal final:  37.10128283610644  altered final:  383.9666704398843\n",
      "confidence interval:  [0.6020972683611978, 0.6221446744135689]\n",
      "deltas coming from simulation:  [346.86538760377783, 0]\n",
      "Specie:  MAPKK expected result:  increased  normal final:  6.729376566114122  altered final:  42.696896875695984\n",
      "confidence interval:  [0.5757157537298163, 0.5849181624862136]\n",
      "deltas coming from simulation:  [35.967520309581865, 0]\n",
      "Specie:  MKP3 expected result:  decreased  normal final:  13.629489893123521  altered final:  4.2645151903841905\n",
      "confidence interval:  [0.10406067386363665, 0.1114325859204992]\n",
      "deltas coming from simulation:  [-9.364974702739332, 0]\n",
      "Specie:  M_MAPKK expected result:  decreased  normal final:  43.14281633644023  altered final:  6.889246760891442\n",
      "confidence interval:  [0.5590921727836479, 0.5663807568857249]\n",
      "deltas coming from simulation:  [-36.25356957554878, 0]\n",
      "Specie:  Mp_MAPKK expected result:  increased  normal final:  0.12780709744794014  altered final:  0.41385636341352944\n",
      "confidence interval:  [0.35255971333322367, 0.35975763386606135]\n",
      "deltas coming from simulation:  [0.2860492659655893, 0]\n",
      "Specie:  Mpp_MKP3 expected result:  increased  normal final:  20.83811371301289  altered final:  67.47658099004369\n",
      "confidence interval:  [0.37054680303288173, 0.3767787969607581]\n",
      "deltas coming from simulation:  [46.6384672770308, 0]\n",
      "Specie:  Mp_MKP3_dep expected result:  increased  normal final:  3.2113909512641117  altered final:  26.875585703420704\n",
      "confidence interval:  [0.9964585614919543, 0.9973324893623889]\n",
      "deltas coming from simulation:  [23.664194752156593, 0]\n",
      "Specie:  Mp_MKP3 expected result:  decreased  normal final:  0.8628563264472462  altered final:  0.13778493501555394\n",
      "confidence interval:  [0.20055836275745087, 0.21584875736661116]\n",
      "deltas coming from simulation:  [-0.7250713914316922, 0]\n",
      "Specie:  M_MKP3 expected result:  decreased  normal final:  61.45814911601891  altered final:  1.2455331813832549\n",
      "confidence interval:  [0.12798367222395476, 0.14250259824881756]\n",
      "deltas coming from simulation:  [-60.21261593463566, 0]\n",
      "reaction_10  total species:  11 correct species:  7 ratio:  0.6363636363636364\n",
      "Converged at time 6792.0\n",
      "Converged at time 8100.0\n",
      "Specie:  M expected result:  decreased  normal final:  323.7613772367963  altered final:  318.3478488437996\n",
      "confidence interval:  [0.3149995491905652, 0.3272493163427107]\n",
      "deltas coming from simulation:  [-5.413528392996682, 0]\n",
      "Specie:  Mp expected result:  increased  normal final:  9.496206386452487  altered final:  9.716152950697552\n",
      "confidence interval:  [0.2729865947882189, 0.28823339462693753]\n",
      "deltas coming from simulation:  [0.2199465642450651, 0]\n",
      "Specie:  Mpp expected result:  increased  normal final:  37.10128283610644  altered final:  42.10558754696553\n",
      "confidence interval:  [0.9997431513151825, 0.9997830947824575]\n",
      "deltas coming from simulation:  [5.004304710859088, 0]\n",
      "Specie:  MAPKK expected result:  increased  normal final:  6.729376566114122  altered final:  6.84544697954461\n",
      "confidence interval:  [0.9714298814693195, 0.973935833394954]\n",
      "deltas coming from simulation:  [0.11607041343048774, 0]\n",
      "Specie:  MKP3 expected result:  decreased  normal final:  13.629489893123521  altered final:  13.324142361916493\n",
      "confidence interval:  [0.47970007899612294, 0.49072688067176456]\n",
      "deltas coming from simulation:  [-0.30534753120702796, 0]\n",
      "Specie:  M_MAPKK expected result:  increased  normal final:  43.14281633644023  altered final:  43.153135055691216\n",
      "confidence interval:  [0.6387011234464621, 0.6456598270797341]\n",
      "deltas coming from simulation:  [0.010318719250989261, 0]\n",
      "Specie:  Mp_MAPKK expected result:  decreased  normal final:  0.12780709744794014  altered final:  0.0014179647673635378\n",
      "confidence interval:  [0.0032807151822632314, 0.00405273428245258]\n",
      "deltas coming from simulation:  [-0.1263891326805766, 0]\n",
      "Specie:  Mpp_MKP3 expected result:  increased  normal final:  20.83811371301289  altered final:  23.118990770895987\n",
      "confidence interval:  [0.6983414999090929, 0.7079845272516484]\n",
      "deltas coming from simulation:  [2.280877057883096, 0]\n",
      "Specie:  Mp_MKP3_dep expected result:  increased  normal final:  3.2113909512641117  altered final:  3.4215412021704625\n",
      "confidence interval:  [0.4677601165438889, 0.47999157266683445]\n",
      "deltas coming from simulation:  [0.21015025090635087, 0]\n",
      "Specie:  Mp_MKP3 expected result:  increased  normal final:  0.8628563264472462  altered final:  0.8630627008345453\n",
      "confidence interval:  [0.39695226760581737, 0.4067024803500563]\n",
      "deltas coming from simulation:  [0.00020637438729909086, 0]\n",
      "Specie:  M_MKP3 expected result:  decreased  normal final:  61.45814911601891  altered final:  59.272262964178715\n",
      "confidence interval:  [0.31505256483801136, 0.3300086868954094]\n",
      "deltas coming from simulation:  [-2.1858861518401937, 0]\n",
      "reaction_5  total species:  11 correct species:  8 ratio:  0.7272727272727273\n",
      "Converged at time 6792.0\n",
      "Converged at time 779.0\n",
      "Specie:  M expected result:  increased  normal final:  323.7613772367963  altered final:  361.9020332633989\n",
      "confidence interval:  [0.5153700156755919, 0.5181409509130291]\n",
      "deltas coming from simulation:  [38.140656026602585, 0]\n",
      "Specie:  Mp expected result:  decreased  normal final:  9.496206386452487  altered final:  8.120098523977605\n",
      "confidence interval:  [0.6558785860123946, 0.6661841229008567]\n",
      "deltas coming from simulation:  [-1.376107862474882, 0]\n",
      "Specie:  Mpp expected result:  decreased  normal final:  37.10128283610644  altered final:  2.266849999452101\n",
      "confidence interval:  [0.1924473924282949, 0.20810083983102573]\n",
      "deltas coming from simulation:  [-34.834432836654344, 0]\n",
      "Specie:  MAPKK expected result:  decreased  normal final:  6.729376566114122  altered final:  6.11051445149711\n",
      "confidence interval:  [0.4690716273138329, 0.47274602476667676]\n",
      "deltas coming from simulation:  [-0.6188621146170119, 0]\n",
      "Specie:  MKP3 expected result:  increased  normal final:  13.629489893123521  altered final:  16.17846733538601\n",
      "confidence interval:  [0.5024149541053632, 0.5115736669935033]\n",
      "deltas coming from simulation:  [2.5489774422624887, 0]\n",
      "Specie:  M_MAPKK expected result:  increased  normal final:  43.14281633644023  altered final:  43.7902495897486\n",
      "confidence interval:  [0.4928033382965703, 0.4947714733933144]\n",
      "deltas coming from simulation:  [0.6474332533083711, 0]\n",
      "Specie:  Mp_MAPKK expected result:  decreased  normal final:  0.12780709744794014  altered final:  0.09923595875663378\n",
      "confidence interval:  [0.5515877941738428, 0.5567874454331408]\n",
      "deltas coming from simulation:  [-0.028571138691306355, 0]\n",
      "Specie:  Mpp_MKP3 expected result:  decreased  normal final:  20.83811371301289  altered final:  0.1617977588396502\n",
      "confidence interval:  [0.0002065295821808366, 0.0002466452166711305]\n",
      "deltas coming from simulation:  [-20.67631595417324, 0]\n",
      "Specie:  Mp_MKP3_dep expected result:  decreased  normal final:  3.2113909512641117  altered final:  2.802246868601372\n",
      "confidence interval:  [0.9995872712171717, 0.9996637321362105]\n",
      "deltas coming from simulation:  [-0.4091440826627397, 0]\n",
      "Specie:  Mp_MKP3 expected result:  increased  normal final:  0.8628563264472462  altered final:  0.8758049915302276\n",
      "confidence interval:  [0.5606894871844103, 0.5703898161768686]\n",
      "deltas coming from simulation:  [0.012948665082981425, 0]\n",
      "Specie:  M_MKP3 expected result:  increased  normal final:  61.45814911601891  altered final:  79.98168304569379\n",
      "confidence interval:  [0.5339171126628778, 0.5476857260029101]\n",
      "deltas coming from simulation:  [18.523533929674876, 0]\n",
      "reaction_8  total species:  11 correct species:  7 ratio:  0.6363636363636364\n",
      "Converged at time 6792.0\n",
      "Converged at time 1609.0\n",
      "Specie:  M expected result:  increased  normal final:  323.7613772367963  altered final:  360.2587544853577\n",
      "confidence interval:  [0.7191374229746496, 0.731737752454866]\n",
      "deltas coming from simulation:  [36.497377248561406, 0]\n",
      "Specie:  Mp expected result:  decreased  normal final:  9.496206386452487  altered final:  2.840937790858998\n",
      "confidence interval:  [0.34621405421607815, 0.35692548973033367]\n",
      "deltas coming from simulation:  [-6.655268595593489, 0]\n",
      "Specie:  Mpp expected result:  decreased  normal final:  37.10128283610644  altered final:  8.776950781657986\n",
      "confidence interval:  [0.4563681505086252, 0.46281637360062594]\n",
      "deltas coming from simulation:  [-28.324332054448455, 0]\n",
      "Specie:  MAPKK expected result:  decreased  normal final:  6.729376566114122  altered final:  6.142869433568618\n",
      "confidence interval:  [0.48715026205201767, 0.49072156690638863]\n",
      "deltas coming from simulation:  [-0.5865071325455045, 0]\n",
      "Specie:  MKP3 expected result:  increased  normal final:  13.629489893123521  altered final:  15.733773624325844\n",
      "confidence interval:  [0.501565422066589, 0.5105902513613534]\n",
      "deltas coming from simulation:  [2.1042837312023224, 0]\n",
      "Specie:  M_MAPKK expected result:  increased  normal final:  43.14281633644023  altered final:  43.82222754660773\n",
      "confidence interval:  [0.581687866054407, 0.5890687470171115]\n",
      "deltas coming from simulation:  [0.6794112101675012, 0]\n",
      "Specie:  Mp_MAPKK expected result:  decreased  normal final:  0.12780709744794014  altered final:  0.034903019836263684\n",
      "confidence interval:  [0.43281010750113674, 0.4385379698903944]\n",
      "deltas coming from simulation:  [-0.09290407761167646, 0]\n",
      "Specie:  Mpp_MKP3 expected result:  decreased  normal final:  20.83811371301289  altered final:  5.690709754506693\n",
      "confidence interval:  [0.4891004627572944, 0.4926586579042577]\n",
      "deltas coming from simulation:  [-15.1474039585062, 0]\n",
      "Specie:  Mp_MKP3_dep expected result:  decreased  normal final:  3.2113909512641117  altered final:  0.970532018229649\n",
      "confidence interval:  [0.3996095664521478, 0.4193424677144326]\n",
      "deltas coming from simulation:  [-2.240858933034463, 0]\n",
      "Specie:  Mp_MKP3 expected result:  decreased  normal final:  0.8628563264472462  altered final:  0.008764445506306638\n",
      "confidence interval:  [0.00035922798272380456, 0.0004307920711506374]\n",
      "deltas coming from simulation:  [-0.8540918809409396, 0]\n",
      "Specie:  M_MKP3 expected result:  increased  normal final:  61.45814911601891  altered final:  77.59622015746204\n",
      "confidence interval:  [0.9996882226402973, 0.9997403922460302]\n",
      "deltas coming from simulation:  [16.138071041443133, 0]\n",
      "reaction_13  total species:  11 correct species:  11 ratio:  1.0\n",
      "Converged at time 6792.0\n",
      "Converged at time 5894.0\n",
      "Specie:  M expected result:  decreased  normal final:  323.7613772367963  altered final:  0.1439782562115264\n",
      "confidence interval:  [0.28534653041673497, 0.3001257745380556]\n",
      "deltas coming from simulation:  [-323.61739898058477, 0]\n",
      "Specie:  Mp expected result:  decreased  normal final:  9.496206386452487  altered final:  5.375912184012181\n",
      "confidence interval:  [0.899330719732253, 0.9072895222218924]\n",
      "deltas coming from simulation:  [-4.120294202440306, 0]\n",
      "Specie:  Mpp expected result:  increased  normal final:  37.10128283610644  altered final:  399.0674684402139\n",
      "confidence interval:  [0.39167274353396275, 0.40976696790908146]\n",
      "deltas coming from simulation:  [361.9661856041074, 0]\n",
      "Specie:  MAPKK expected result:  increased  normal final:  6.729376566114122  altered final:  49.32898380470898\n",
      "confidence interval:  [0.4348096859086378, 0.44521014537719306]\n",
      "deltas coming from simulation:  [42.599607238594864, 0]\n",
      "Specie:  MKP3 expected result:  decreased  normal final:  13.629489893123521  altered final:  5.258375075735146\n",
      "confidence interval:  [0.8558646607040894, 0.8639258474131745]\n",
      "deltas coming from simulation:  [-8.371114817388374, 0]\n",
      "Specie:  M_MAPKK expected result:  decreased  normal final:  43.14281633644023  altered final:  0.14063962517405387\n",
      "confidence interval:  [0.38895636927371585, 0.39660944588610747]\n",
      "deltas coming from simulation:  [-43.00217671126617, 0]\n",
      "Specie:  Mp_MAPKK expected result:  increased  normal final:  0.12780709744794014  altered final:  0.5303765701213496\n",
      "confidence interval:  [0.6453100108293098, 0.6526059381788206]\n",
      "deltas coming from simulation:  [0.4025694726734095, 0]\n",
      "Specie:  Mpp_MKP3 expected result:  increased  normal final:  20.83811371301289  altered final:  86.47444077950448\n",
      "confidence interval:  [0.6158564241752325, 0.6225370159068202]\n",
      "deltas coming from simulation:  [65.63632706649159, 0]\n",
      "Specie:  Mp_MKP3_dep expected result:  increased  normal final:  3.2113909512641117  altered final:  8.238334178091836\n",
      "confidence interval:  [0.9287204370196358, 0.9402674304287074]\n",
      "deltas coming from simulation:  [5.026943226827725, 0]\n",
      "Specie:  Mp_MKP3 expected result:  decreased  normal final:  0.8628563264472462  altered final:  0.0028127923022637693\n",
      "confidence interval:  [0.021777110652120475, 0.027575186484506888]\n",
      "deltas coming from simulation:  [-0.8600435341449825, 0]\n",
      "Specie:  M_MKP3 expected result:  decreased  normal final:  61.45814911601891  altered final:  0.02603717437150793\n",
      "confidence interval:  [0.3285206645192525, 0.3501022372394152]\n",
      "deltas coming from simulation:  [-61.4321119416474, 0]\n",
      "reaction_12  total species:  11 correct species:  7 ratio:  0.6363636363636364\n",
      "Converged at time 6792.0\n",
      "Converged at time 576.0\n",
      "Specie:  M expected result:  increased  normal final:  323.7613772367963  altered final:  442.8294413762467\n",
      "confidence interval:  [0.9757709693172866, 0.9795449657037593]\n",
      "deltas coming from simulation:  [119.06806413945037, 0]\n",
      "Specie:  Mp expected result:  decreased  normal final:  9.496206386452487  altered final:  1.4975154856625448\n",
      "confidence interval:  [0.409033330613362, 0.4197312235186011]\n",
      "deltas coming from simulation:  [-7.998690900789942, 0]\n",
      "Specie:  Mpp expected result:  decreased  normal final:  37.10128283610644  altered final:  0.67455883127643\n",
      "confidence interval:  [0.22446359361157397, 0.2364274470019836]\n",
      "deltas coming from simulation:  [-36.426724004830014, 0]\n",
      "Specie:  MAPKK expected result:  decreased  normal final:  6.729376566114122  altered final:  5.116714896676722\n",
      "confidence interval:  [0.4095467424703879, 0.4188944565568119]\n",
      "deltas coming from simulation:  [-1.6126616694373999, 0]\n",
      "Specie:  MKP3 expected result:  increased  normal final:  13.629489893123521  altered final:  89.88480079656486\n",
      "confidence interval:  [0.9186341455355667, 0.9244806018869989]\n",
      "deltas coming from simulation:  [76.25531090344134, 0]\n",
      "Specie:  M_MAPKK expected result:  increased  normal final:  43.14281633644023  altered final:  44.86796038370168\n",
      "confidence interval:  [0.6660516636144249, 0.6730743977731709]\n",
      "deltas coming from simulation:  [1.7251440472614519, 0]\n",
      "Specie:  Mp_MAPKK expected result:  decreased  normal final:  0.12780709744794014  altered final:  0.015324719586977363\n",
      "confidence interval:  [0.4173293223498361, 0.4234632510698669]\n",
      "deltas coming from simulation:  [-0.11248237786096277, 0]\n",
      "Specie:  Mpp_MKP3 expected result:  decreased  normal final:  20.83811371301289  altered final:  2.4985955840781986\n",
      "confidence interval:  [0.5861344115712555, 0.5908991647173076]\n",
      "deltas coming from simulation:  [-18.339518128934692, 0]\n",
      "Specie:  Mp_MKP3_dep expected result:  decreased  normal final:  3.2113909512641117  altered final:  1.575909604902541\n",
      "confidence interval:  [0.7800316384153895, 0.7954083178589427]\n",
      "deltas coming from simulation:  [-1.6354813463615707, 0]\n",
      "Specie:  Mp_MKP3 expected result:  increased  normal final:  0.8628563264472462  altered final:  0.8973592074513281\n",
      "confidence interval:  [0.6412739175606593, 0.6495168124416245]\n",
      "deltas coming from simulation:  [0.03450288100408194, 0]\n",
      "Specie:  M_MKP3 expected result:  decreased  normal final:  61.45814911601891  altered final:  5.143334807114484\n",
      "confidence interval:  [0.005541616214997634, 0.007417153993012239]\n",
      "deltas coming from simulation:  [-56.314814308904424, 0]\n",
      "reaction_14  total species:  11 correct species:  9 ratio:  0.8181818181818182\n",
      "Converged at time 6792.0\n",
      "Warning: Maximum time reached before convergence.\n",
      "Min and max abs differences:  2.789940653502576e-09 1.0095353104588867e-06\n",
      "Specie:  M expected result:  increased  normal final:  323.7613772367963  altered final:  391.1221943109401\n",
      "confidence interval:  [0.9778045758945482, 0.9814659043872741]\n",
      "deltas coming from simulation:  [67.36081707414377, 0]\n",
      "Specie:  Mp expected result:  decreased  normal final:  9.496206386452487  altered final:  0.7493547731411276\n",
      "confidence interval:  [0.2710002999027581, 0.2852512239272919]\n",
      "deltas coming from simulation:  [-8.746851613311359, 0]\n",
      "Specie:  Mpp expected result:  decreased  normal final:  37.10128283610644  altered final:  18.937200735859637\n",
      "confidence interval:  [0.6166432823919054, 0.6307732973110892]\n",
      "deltas coming from simulation:  [-18.164082100246805, 0]\n",
      "Specie:  MAPKK expected result:  increased  normal final:  6.729376566114122  altered final:  46.308502585355505\n",
      "confidence interval:  [0.9245943146070907, 0.9319182703421148]\n",
      "deltas coming from simulation:  [39.579126019241386, 0]\n",
      "Specie:  MKP3 expected result:  increased  normal final:  13.629489893123521  altered final:  14.500247234865602\n",
      "confidence interval:  [0.44493920441725326, 0.4569032247936476]\n",
      "deltas coming from simulation:  [0.8707573417420811, 0]\n",
      "Specie:  M_MAPKK expected result:  decreased  normal final:  43.14281633644023  altered final:  3.6220944199347085\n",
      "confidence interval:  [0.029300999452988835, 0.03672332731832228]\n",
      "deltas coming from simulation:  [-39.520721916505515, 0]\n",
      "Specie:  Mp_MAPKK expected result:  decreased  normal final:  0.12780709744794014  altered final:  0.06940299471191627\n",
      "confidence interval:  [0.6048416505254652, 0.6145731106144544]\n",
      "deltas coming from simulation:  [-0.058404102736023866, 0]\n",
      "Specie:  Mpp_MKP3 expected result:  decreased  normal final:  20.83811371301289  altered final:  11.315690169206377\n",
      "confidence interval:  [0.5165802748655066, 0.5226344171984681]\n",
      "deltas coming from simulation:  [-9.522423543806514, 0]\n",
      "Specie:  Mp_MKP3_dep expected result:  decreased  normal final:  3.2113909512641117  altered final:  1.1497017398662566\n",
      "confidence interval:  [0.331434999749918, 0.34617812546545]\n",
      "deltas coming from simulation:  [-2.061689211397855, 0]\n",
      "Specie:  Mp_MKP3 expected result:  decreased  normal final:  0.8628563264472462  altered final:  0.07243886131674834\n",
      "confidence interval:  [0.3879107610376689, 0.3966361216322136]\n",
      "deltas coming from simulation:  [-0.7904174651304978, 0]\n",
      "Specie:  M_MKP3 expected result:  increased  normal final:  61.45814911601891  altered final:  72.96192199477109\n",
      "confidence interval:  [0.7229274429189015, 0.735885905962991]\n",
      "deltas coming from simulation:  [11.50377287875218, 0]\n",
      "reaction_1  total species:  11 correct species:  7 ratio:  0.6363636363636364\n",
      "Converged at time 6792.0\n",
      "Converged at time 2912.0\n",
      "Specie:  M expected result:  increased  normal final:  323.7613772367963  altered final:  357.767245398922\n",
      "confidence interval:  [0.6046418722995718, 0.6143030899305428]\n",
      "deltas coming from simulation:  [34.005868162125694, 0]\n",
      "Specie:  Mp expected result:  increased  normal final:  9.496206386452487  altered final:  10.48995034552303\n",
      "confidence interval:  [0.7441180136549576, 0.7538578569473757]\n",
      "deltas coming from simulation:  [0.9937439590705424, 0]\n",
      "Specie:  Mpp expected result:  decreased  normal final:  37.10128283610644  altered final:  0.4096943391596422\n",
      "confidence interval:  [0.0021453179777687, 0.0027206891821200284]\n",
      "deltas coming from simulation:  [-36.6915884969468, 0]\n",
      "Specie:  MAPKK expected result:  decreased  normal final:  6.729376566114122  altered final:  6.168666281902289\n",
      "confidence interval:  [0.44571224964752615, 0.4487994300750705]\n",
      "deltas coming from simulation:  [-0.560710284211833, 0]\n",
      "Specie:  MKP3 expected result:  decreased  normal final:  13.629489893123521  altered final:  12.498223801709052\n",
      "confidence interval:  [0.08097748430158433, 0.0864048813861267]\n",
      "deltas coming from simulation:  [-1.131266091414469, 0]\n",
      "Specie:  M_MAPKK expected result:  increased  normal final:  43.14281633644023  altered final:  43.70191571210827\n",
      "confidence interval:  [0.5280368404300372, 0.5331860529348615]\n",
      "deltas coming from simulation:  [0.5590993756680405, 0]\n",
      "Specie:  Mp_MAPKK expected result:  increased  normal final:  0.12780709744794014  altered final:  0.1294180059904786\n",
      "confidence interval:  [0.5722701435784114, 0.5775298608414039]\n",
      "deltas coming from simulation:  [0.0016109085425384528, 0]\n",
      "Specie:  Mpp_MKP3 expected result:  increased  normal final:  20.83811371301289  altered final:  21.100761845142685\n",
      "confidence interval:  [0.9729609133250661, 0.9792260485370141]\n",
      "deltas coming from simulation:  [0.26264813212979377, 0]\n",
      "Specie:  Mp_MKP3_dep expected result:  increased  normal final:  3.2113909512641117  altered final:  3.252327560611826\n",
      "confidence interval:  [0.647337894522744, 0.6665690118790355]\n",
      "deltas coming from simulation:  [0.04093660934771437, 0]\n",
      "Specie:  Mp_MKP3 expected result:  increased  normal final:  0.8628563264472462  altered final:  0.8740383139128522\n",
      "confidence interval:  [0.39967829960671747, 0.40823634179014207]\n",
      "deltas coming from simulation:  [0.011181987465606058, 0]\n",
      "Specie:  M_MKP3 expected result:  increased  normal final:  61.45814911601891  altered final:  62.274648478621806\n",
      "confidence interval:  [0.2108415997959437, 0.22361325198725338]\n",
      "deltas coming from simulation:  [0.8164993626028973, 0]\n",
      "reaction_6  total species:  11 correct species:  9 ratio:  0.8181818181818182\n",
      "Converged at time 6792.0\n",
      "Converged at time 1199.0\n",
      "Specie:  M expected result:  increased  normal final:  323.7613772367963  altered final:  360.59278347153327\n",
      "confidence interval:  [0.3930016092540328, 0.40688666544145774]\n",
      "deltas coming from simulation:  [36.83140623473696, 0]\n",
      "Specie:  Mp expected result:  decreased  normal final:  9.496206386452487  altered final:  8.182364904584796\n",
      "confidence interval:  [0.9473446289429328, 0.9524910869232774]\n",
      "deltas coming from simulation:  [-1.3138414818676907, 0]\n",
      "Specie:  Mpp expected result:  decreased  normal final:  37.10128283610644  altered final:  3.4409350404732817\n",
      "confidence interval:  [0.18232280822092323, 0.2029930061532747]\n",
      "deltas coming from simulation:  [-33.66034779563316, 0]\n",
      "Specie:  MAPKK expected result:  decreased  normal final:  6.729376566114122  altered final:  6.140448270221301\n",
      "confidence interval:  [0.9210322116293559, 0.9298052904649043]\n",
      "deltas coming from simulation:  [-0.5889282958928215, 0]\n",
      "Specie:  MKP3 expected result:  increased  normal final:  13.629489893123521  altered final:  16.075635146394415\n",
      "confidence interval:  [0.4123054035632109, 0.419690413191697]\n",
      "deltas coming from simulation:  [2.4461452532708936, 0]\n",
      "Specie:  M_MAPKK expected result:  increased  normal final:  43.14281633644023  altered final:  43.84557096083448\n",
      "confidence interval:  [0.6415628004067545, 0.6486762833010213]\n",
      "deltas coming from simulation:  [0.7027546243942524, 0]\n",
      "Specie:  Mp_MAPKK expected result:  decreased  normal final:  0.12780709744794014  altered final:  0.013980768952952874\n",
      "confidence interval:  [0.02654835667183824, 0.0343980490151894]\n",
      "deltas coming from simulation:  [-0.11382632849498726, 0]\n",
      "Specie:  Mpp_MKP3 expected result:  decreased  normal final:  20.83811371301289  altered final:  2.279473198040134\n",
      "confidence interval:  [0.3473921402587116, 0.35788439564063745]\n",
      "deltas coming from simulation:  [-18.55864051497276, 0]\n",
      "Specie:  Mp_MKP3_dep expected result:  decreased  normal final:  3.2113909512641117  altered final:  1.5250786626169945\n",
      "confidence interval:  [0.6732810643332455, 0.6895162504413846]\n",
      "deltas coming from simulation:  [-1.6863122886471171, 0]\n",
      "Specie:  Mp_MKP3 expected result:  increased  normal final:  0.8628563264472462  altered final:  0.8769114189350817\n",
      "confidence interval:  [0.6524184284390806, 0.6624838291066952]\n",
      "deltas coming from simulation:  [0.014055092487835541, 0]\n",
      "Specie:  M_MKP3 expected result:  increased  normal final:  61.45814911601891  altered final:  79.24290157402906\n",
      "confidence interval:  [0.4620466847907748, 0.4771288021908636]\n",
      "deltas coming from simulation:  [17.784752458010153, 0]\n",
      "reaction_4  total species:  11 correct species:  5 ratio:  0.45454545454545453\n",
      "Converged at time 6792.0\n",
      "Converged at time 310.0\n",
      "Specie:  M expected result:  decreased  normal final:  323.7613772367963  altered final:  0.18591930193542847\n",
      "confidence interval:  [0.1411437204514478, 0.1535145636724104]\n",
      "deltas coming from simulation:  [-323.5754579348609, 0]\n",
      "Specie:  Mp expected result:  decreased  normal final:  9.496206386452487  altered final:  5.303779160980343\n",
      "confidence interval:  [0.9597181933597113, 0.9629620544275594]\n",
      "deltas coming from simulation:  [-4.1924272254721435, 0]\n",
      "Specie:  Mpp expected result:  increased  normal final:  37.10128283610644  altered final:  399.08801251738686\n",
      "confidence interval:  [0.7527387348906502, 0.7687148919949486]\n",
      "deltas coming from simulation:  [361.9867296812804, 0]\n",
      "Specie:  MAPKK expected result:  increased  normal final:  6.729376566114122  altered final:  49.38433774102787\n",
      "confidence interval:  [0.9626220192909525, 0.9660149799829176]\n",
      "deltas coming from simulation:  [42.65496117491375, 0]\n",
      "Specie:  MKP3 expected result:  decreased  normal final:  13.629489893123521  altered final:  5.193373238481093\n",
      "confidence interval:  [0.3725509214195356, 0.38211698466299626]\n",
      "deltas coming from simulation:  [-8.43611665464243, 0]\n",
      "Specie:  M_MAPKK expected result:  decreased  normal final:  43.14281633644023  altered final:  0.09181501599954972\n",
      "confidence interval:  [0.0019046210870877725, 0.0023142784256632394]\n",
      "deltas coming from simulation:  [-43.051001320440676, 0]\n",
      "Specie:  Mp_MAPKK expected result:  increased  normal final:  0.12780709744794014  altered final:  0.5238472427793702\n",
      "confidence interval:  [0.8069665104037479, 0.8222553926816669]\n",
      "deltas coming from simulation:  [0.39604014533143006, 0]\n",
      "Specie:  Mpp_MKP3 expected result:  increased  normal final:  20.83811371301289  altered final:  85.40987653864109\n",
      "confidence interval:  [0.5330200938917283, 0.5403367753558367]\n",
      "deltas coming from simulation:  [64.5717628256282, 0]\n",
      "Specie:  Mp_MKP3_dep expected result:  increased  normal final:  3.2113909512641117  altered final:  8.133153689120132\n",
      "confidence interval:  [0.7354915823178575, 0.7524451558556994]\n",
      "deltas coming from simulation:  [4.92176273785602, 0]\n",
      "Specie:  Mp_MKP3 expected result:  decreased  normal final:  0.8628563264472462  altered final:  0.18363003171629394\n",
      "confidence interval:  [0.6456031097515676, 0.6562361767554482]\n",
      "deltas coming from simulation:  [-0.6792262947309522, 0]\n",
      "Specie:  M_MKP3 expected result:  decreased  normal final:  61.45814911601891  altered final:  1.07996650144379\n",
      "confidence interval:  [0.32690673878831406, 0.3427748952474093]\n",
      "deltas coming from simulation:  [-60.37818261457512, 0]\n",
      "reaction_2  total species:  11 correct species:  9 ratio:  0.8181818181818182\n",
      "Converged at time 6792.0\n",
      "Warning: Maximum time reached before convergence.\n",
      "Min and max abs differences:  6.703665400564773e-13 2.4934365683293436e-09\n",
      "Specie:  M expected result:  decreased  normal final:  323.7613772367963  altered final:  37.24913519733589\n",
      "confidence interval:  [0.38801956883994254, 0.3986063753026627]\n",
      "deltas coming from simulation:  [-286.51224203946043, 0]\n",
      "Specie:  Mp expected result:  decreased  normal final:  9.496206386452487  altered final:  1.1020584638134534\n",
      "confidence interval:  [0.25250778863321394, 0.26057628285308776]\n",
      "deltas coming from simulation:  [-8.394147922639034, 0]\n",
      "Specie:  Mpp expected result:  increased  normal final:  37.10128283610644  altered final:  398.09202993132766\n",
      "confidence interval:  [0.9954009095360322, 0.9964634359748606]\n",
      "deltas coming from simulation:  [360.9907470952212, 0]\n",
      "Specie:  MAPKK expected result:  increased  normal final:  6.729376566114122  altered final:  28.73875786217433\n",
      "confidence interval:  [0.5501877550452673, 0.5530317060944312]\n",
      "deltas coming from simulation:  [22.00938129606021, 0]\n",
      "Specie:  MKP3 expected result:  increased  normal final:  13.629489893123521  altered final:  57.70446573031304\n",
      "confidence interval:  [0.904437095909634, 0.9101896755042928]\n",
      "deltas coming from simulation:  [44.07497583718952, 0]\n",
      "Specie:  M_MAPKK expected result:  decreased  normal final:  43.14281633644023  altered final:  21.19789855515227\n",
      "confidence interval:  [0.46797977095369114, 0.4726678895631752]\n",
      "deltas coming from simulation:  [-21.944917781287955, 0]\n",
      "Specie:  Mp_MAPKK expected result:  decreased  normal final:  0.12780709744794014  altered final:  0.0633435826829472\n",
      "confidence interval:  [0.4243744512423872, 0.42907443449001215]\n",
      "deltas coming from simulation:  [-0.06446351476499294, 0]\n",
      "Specie:  Mpp_MKP3 expected result:  decreased  normal final:  20.83811371301289  altered final:  10.32775801702999\n",
      "confidence interval:  [0.030420723068557764, 0.03769240636061847]\n",
      "deltas coming from simulation:  [-10.510355695982902, 0]\n",
      "Specie:  Mp_MKP3_dep expected result:  decreased  normal final:  3.2113909512641117  altered final:  1.5860906861273238\n",
      "confidence interval:  [0.3357048796344929, 0.35910665735096964]\n",
      "deltas coming from simulation:  [-1.6253002651367878, 0]\n",
      "Specie:  Mp_MKP3 expected result:  decreased  normal final:  0.8628563264472462  altered final:  0.4239579657182119\n",
      "confidence interval:  [0.5899011952909144, 0.5968164244124872]\n",
      "deltas coming from simulation:  [-0.43889836072903426, 0]\n",
      "Specie:  M_MKP3 expected result:  decreased  normal final:  61.45814911601891  altered final:  29.957727600821382\n",
      "confidence interval:  [0.76998479517023, 0.7852259607606266]\n",
      "deltas coming from simulation:  [-31.500421515197527, 0]\n",
      "reaction_7  total species:  11 correct species:  9 ratio:  0.8181818181818182\n",
      "Converged at time 6792.0\n",
      "Warning: Maximum time reached before convergence.\n",
      "Min and max abs differences:  6.525752160868592e-13 2.8271074370422866e-10\n",
      "Specie:  M expected result:  decreased  normal final:  323.7613772367963  altered final:  6.025072269630598\n",
      "confidence interval:  [0.015265019955259609, 0.018394651281631084]\n",
      "deltas coming from simulation:  [-317.7363049671657, 0]\n",
      "Specie:  Mp expected result:  decreased  normal final:  9.496206386452487  altered final:  4.188819423812683\n",
      "confidence interval:  [0.5820633948424204, 0.593037564500733]\n",
      "deltas coming from simulation:  [-5.307386962639804, 0]\n",
      "Specie:  Mpp expected result:  increased  normal final:  37.10128283610644  altered final:  387.91332290999003\n",
      "confidence interval:  [0.7664335476059775, 0.7788297292175508]\n",
      "deltas coming from simulation:  [350.81204007388357, 0]\n",
      "Specie:  MAPKK expected result:  increased  normal final:  6.729376566114122  altered final:  44.33858358828584\n",
      "confidence interval:  [0.5823307728284185, 0.591540114527888]\n",
      "deltas coming from simulation:  [37.609207022171724, 0]\n",
      "Specie:  MKP3 expected result:  decreased  normal final:  13.629489893123521  altered final:  3.7886310151769558\n",
      "confidence interval:  [0.0678971086176837, 0.073439506112054]\n",
      "deltas coming from simulation:  [-9.840858877946566, 0]\n",
      "Specie:  M_MAPKK expected result:  decreased  normal final:  43.14281633644023  altered final:  5.289963771398697\n",
      "confidence interval:  [0.32397742238310656, 0.331178204554738]\n",
      "deltas coming from simulation:  [-37.85285256504153, 0]\n",
      "Specie:  Mp_MAPKK expected result:  increased  normal final:  0.12780709744794014  altered final:  0.3714526403178174\n",
      "confidence interval:  [0.5773517710175945, 0.5834870107463028]\n",
      "deltas coming from simulation:  [0.24364554286987725, 0]\n",
      "Specie:  Mpp_MKP3 expected result:  increased  normal final:  20.83811371301289  altered final:  60.562930482349266\n",
      "confidence interval:  [0.40653486759344776, 0.41168164744221913]\n",
      "deltas coming from simulation:  [39.72481676933637, 0]\n",
      "Specie:  Mp_MKP3_dep expected result:  increased  normal final:  3.2113909512641117  altered final:  5.730488516212787\n",
      "confidence interval:  [0.200287641400296, 0.21581448918688292]\n",
      "deltas coming from simulation:  [2.5190975649486758, 0]\n",
      "Specie:  Mp_MKP3 expected result:  decreased  normal final:  0.8628563264472462  altered final:  0.10579927457311186\n",
      "confidence interval:  [0.3470157049445203, 0.35641907245048016]\n",
      "deltas coming from simulation:  [-0.7570570518741343, 0]\n",
      "Specie:  M_MKP3 expected result:  decreased  normal final:  61.45814911601891  altered final:  29.812150711690325\n",
      "confidence interval:  [0.9951880392569412, 0.9964556186970642]\n",
      "deltas coming from simulation:  [-31.645998404328584, 0]\n",
      "reaction_15  total species:  11 correct species:  7 ratio:  0.6363636363636364\n",
      "Converged at time 6792.0\n",
      "Converged at time 525.0\n",
      "Specie:  M expected result:  increased  normal final:  323.7613772367963  altered final:  371.95477231081344\n",
      "confidence interval:  [0.7042786871468514, 0.7190583694470761]\n",
      "deltas coming from simulation:  [48.19339507401713, 0]\n",
      "Specie:  Mp expected result:  decreased  normal final:  9.496206386452487  altered final:  0.08105112739214432\n",
      "confidence interval:  [0.08288669248368297, 0.0920788773192861]\n",
      "deltas coming from simulation:  [-9.415155259060343, 0]\n",
      "Specie:  Mpp expected result:  decreased  normal final:  37.10128283610644  altered final:  0.23525651337852851\n",
      "confidence interval:  [0.5933002834717179, 0.6124576767949078]\n",
      "deltas coming from simulation:  [-36.86602632272791, 0]\n",
      "Specie:  MAPKK expected result:  decreased  normal final:  6.729376566114122  altered final:  5.976855365300771\n",
      "confidence interval:  [0.5570949807635707, 0.565367074153389]\n",
      "deltas coming from simulation:  [-0.7525212008133506, 0]\n",
      "Specie:  MKP3 expected result:  increased  normal final:  13.629489893123521  altered final:  16.29422458632866\n",
      "confidence interval:  [0.12664962529404025, 0.13626347092203264]\n",
      "deltas coming from simulation:  [2.664734693205139, 0]\n",
      "Specie:  M_MAPKK expected result:  increased  normal final:  43.14281633644023  altered final:  44.022175772973995\n",
      "confidence interval:  [0.6052855526531409, 0.6129723567785641]\n",
      "deltas coming from simulation:  [0.8793594365337682, 0]\n",
      "Specie:  Mp_MAPKK expected result:  decreased  normal final:  0.12780709744794014  altered final:  0.0009688617312339411\n",
      "confidence interval:  [0.3441370220128304, 0.3501503078574767]\n",
      "deltas coming from simulation:  [-0.1268382357167062, 0]\n",
      "Specie:  Mpp_MKP3 expected result:  decreased  normal final:  20.83811371301289  altered final:  0.1579665850157679\n",
      "confidence interval:  [0.3743879663925782, 0.3806869184102239]\n",
      "deltas coming from simulation:  [-20.680147127997124, 0]\n",
      "Specie:  Mp_MKP3_dep expected result:  decreased  normal final:  3.2113909512641117  altered final:  0.0277395785425524\n",
      "confidence interval:  [0.057041093533145876, 0.06758507040640498]\n",
      "deltas coming from simulation:  [-3.183651372721559, 0]\n",
      "Specie:  Mp_MKP3 expected result:  increased  normal final:  0.8628563264472462  altered final:  0.8804435151271576\n",
      "confidence interval:  [0.9793172283193406, 0.9844791387086765]\n",
      "deltas coming from simulation:  [0.01758718867991138, 0]\n",
      "Specie:  M_MKP3 expected result:  increased  normal final:  61.45814911601891  altered final:  82.63962573502602\n",
      "confidence interval:  [0.6514059590672299, 0.6756735359367313]\n",
      "deltas coming from simulation:  [21.181476619007107, 0]\n",
      "reaction_11  total species:  11 correct species:  8 ratio:  0.7272727272727273\n",
      "Converged at time 6792.0\n",
      "Converged at time 5864.0\n",
      "Specie:  M expected result:  decreased  normal final:  323.7613772367963  altered final:  0.09569856327447267\n",
      "confidence interval:  [0.59714205899237, 0.6100670343011287]\n",
      "deltas coming from simulation:  [-323.6656786735218, 0]\n",
      "Specie:  Mp expected result:  decreased  normal final:  9.496206386452487  altered final:  0.053903695682115664\n",
      "confidence interval:  [0.04146291513887532, 0.04498143389257301]\n",
      "deltas coming from simulation:  [-9.44230269077037, 0]\n",
      "Specie:  Mpp expected result:  increased  normal final:  37.10128283610644  altered final:  404.4318872180218\n",
      "confidence interval:  [0.8025302320414546, 0.8249401347802148]\n",
      "deltas coming from simulation:  [367.33060438191535, 0]\n",
      "Specie:  MAPKK expected result:  increased  normal final:  6.729376566114122  altered final:  49.374145176121964\n",
      "confidence interval:  [0.06185181206111064, 0.06878276475213681]\n",
      "deltas coming from simulation:  [42.644768610007844, 0]\n",
      "Specie:  MKP3 expected result:  decreased  normal final:  13.629489893123521  altered final:  5.207344300891331\n",
      "confidence interval:  [0.5809752629257862, 0.5885363455640054]\n",
      "deltas coming from simulation:  [-8.42214559223219, 0]\n",
      "Specie:  M_MAPKK expected result:  decreased  normal final:  43.14281633644023  altered final:  0.09356504472838917\n",
      "confidence interval:  [0.34726796752942, 0.35475083461486934]\n",
      "deltas coming from simulation:  [-43.04925129171184, 0]\n",
      "Specie:  Mp_MAPKK expected result:  increased  normal final:  0.12780709744794014  altered final:  0.5322897792276561\n",
      "confidence interval:  [0.9752203764006903, 0.9807151908383219]\n",
      "deltas coming from simulation:  [0.4044826817797159, 0]\n",
      "Specie:  Mpp_MKP3 expected result:  increased  normal final:  20.83811371301289  altered final:  86.78637704684323\n",
      "confidence interval:  [0.6450148072762453, 0.6562702479687527]\n",
      "deltas coming from simulation:  [65.94826333383034, 0]\n",
      "Specie:  Mp_MKP3_dep expected result:  increased  normal final:  3.2113909512641117  altered final:  7.987153639334255\n",
      "confidence interval:  [0.3077883989945214, 0.32479726948913684]\n",
      "deltas coming from simulation:  [4.775762688070143, 0]\n",
      "Specie:  Mp_MKP3 expected result:  decreased  normal final:  0.8628563264472462  altered final:  0.0018713006833831851\n",
      "confidence interval:  [0.3344284143111947, 0.3445974763934408]\n",
      "deltas coming from simulation:  [-0.860985025763863, 0]\n",
      "Specie:  M_MKP3 expected result:  decreased  normal final:  61.45814911601891  altered final:  0.017253712211802143\n",
      "confidence interval:  [0.5242024296606843, 0.5387623001085766]\n",
      "deltas coming from simulation:  [-61.440895403807104, 0]\n",
      "reaction_3  total species:  11 correct species:  6 ratio:  0.5454545454545454\n",
      "Converged at time 6792.0\n",
      "Converged at time 5452.0\n",
      "Specie:  M expected result:  increased  normal final:  323.7613772367963  altered final:  328.5659323987398\n",
      "confidence interval:  [0.4580589222551026, 0.46974041446745896]\n",
      "deltas coming from simulation:  [4.804555161943483, 0]\n",
      "Specie:  Mp expected result:  decreased  normal final:  9.496206386452487  altered final:  9.065833598790945\n",
      "confidence interval:  [0.8832784004137955, 0.8920356854341331]\n",
      "deltas coming from simulation:  [-0.4303727876615415, 0]\n",
      "Specie:  Mpp expected result:  decreased  normal final:  37.10128283610644  altered final:  33.320125694302945\n",
      "confidence interval:  [0.3808996208818771, 0.39679753146293206]\n",
      "deltas coming from simulation:  [-3.7811571418034973, 0]\n",
      "Specie:  MAPKK expected result:  decreased  normal final:  6.729376566114122  altered final:  6.645058924751083\n",
      "confidence interval:  [0.41669968184888884, 0.4255273739521342]\n",
      "deltas coming from simulation:  [-0.08431764136303865, 0]\n",
      "Specie:  MKP3 expected result:  increased  normal final:  13.629489893123521  altered final:  14.30683276718315\n",
      "confidence interval:  [0.8818252584413592, 0.8888656450892]\n",
      "deltas coming from simulation:  [0.6773428740596295, 0]\n",
      "Specie:  M_MAPKK expected result:  increased  normal final:  43.14281633644023  altered final:  43.234455078326846\n",
      "confidence interval:  [0.4357849342448243, 0.4426727819904194]\n",
      "deltas coming from simulation:  [0.09163874188661936, 0]\n",
      "Specie:  Mp_MAPKK expected result:  decreased  normal final:  0.12780709744794014  altered final:  0.12048599693189407\n",
      "confidence interval:  [0.6368236373227897, 0.6430689276603275]\n",
      "deltas coming from simulation:  [-0.007321100516046064, 0]\n",
      "Specie:  Mpp_MKP3 expected result:  decreased  normal final:  20.83811371301289  altered final:  19.64445602015074\n",
      "confidence interval:  [0.6207100505116573, 0.6265556962008265]\n",
      "deltas coming from simulation:  [-1.1936576928621498, 0]\n",
      "Specie:  Mp_MKP3_dep expected result:  decreased  normal final:  3.2113909512641117  altered final:  0.031043236057839374\n",
      "confidence interval:  [0.003953612424783942, 0.0050529144964522625]\n",
      "deltas coming from simulation:  [-3.1803477152062722, 0]\n",
      "Specie:  Mp_MKP3 expected result:  increased  normal final:  0.8628563264472462  altered final:  0.864689101286053\n",
      "confidence interval:  [0.7825038444630396, 0.7953067469548676]\n",
      "deltas coming from simulation:  [0.0018327748388068388, 0]\n",
      "Specie:  M_MKP3 expected result:  increased  normal final:  61.45814911601891  altered final:  65.15297887540466\n",
      "confidence interval:  [0.8530300194969977, 0.8674758171911113]\n",
      "deltas coming from simulation:  [3.6948297593857475, 0]\n",
      "reaction_9  total species:  11 correct species:  6 ratio:  0.5454545454545454\n",
      "Converged at time 6792.0\n",
      "Converged at time 684.0\n",
      "Specie:  M expected result:  increased  normal final:  323.7613772367963  altered final:  357.07385897798446\n",
      "confidence interval:  [0.01378338068306054, 0.01590174288681663]\n",
      "deltas coming from simulation:  [33.31248174118815, 0]\n",
      "Specie:  Mp expected result:  decreased  normal final:  9.496206386452487  altered final:  9.116583556567566\n",
      "confidence interval:  [0.7211254411857706, 0.7325017438794124]\n",
      "deltas coming from simulation:  [-0.37962282988492113, 0]\n",
      "Specie:  Mpp expected result:  decreased  normal final:  37.10128283610644  altered final:  0.3100415156682302\n",
      "confidence interval:  [0.3674989461019516, 0.3824987660035386]\n",
      "deltas coming from simulation:  [-36.79124132043821, 0]\n",
      "Specie:  MAPKK expected result:  decreased  normal final:  6.729376566114122  altered final:  0.07061197604015909\n",
      "confidence interval:  [0.05814623733033457, 0.06403429970097234]\n",
      "deltas coming from simulation:  [-6.658764590073963, 0]\n",
      "Specie:  MKP3 expected result:  increased  normal final:  13.629489893123521  altered final:  16.429872074839448\n",
      "confidence interval:  [0.5437809950757064, 0.5544152648278333]\n",
      "deltas coming from simulation:  [2.8003821817159267, 0]\n",
      "Specie:  M_MAPKK expected result:  increased  normal final:  43.14281633644023  altered final:  49.92810054400118\n",
      "confidence interval:  [0.9747367602453488, 0.9798490627145353]\n",
      "deltas coming from simulation:  [6.785284207560956, 0]\n",
      "Specie:  Mp_MAPKK expected result:  decreased  normal final:  0.12780709744794014  altered final:  0.001287479959328198\n",
      "confidence interval:  [0.3823452172117424, 0.3917570427575166]\n",
      "deltas coming from simulation:  [-0.12651961748861193, 0]\n",
      "Specie:  Mpp_MKP3 expected result:  decreased  normal final:  20.83811371301289  altered final:  0.2099152104417263\n",
      "confidence interval:  [0.4771526096063504, 0.4821028983082184]\n",
      "deltas coming from simulation:  [-20.628198502571166, 0]\n",
      "Specie:  Mp_MKP3_dep expected result:  decreased  normal final:  3.2113909512641117  altered final:  1.517155215286957\n",
      "confidence interval:  [0.65532117936947, 0.6701924147432856]\n",
      "deltas coming from simulation:  [-1.6942357359771547, 0]\n",
      "Specie:  Mp_MKP3 expected result:  increased  normal final:  0.8628563264472462  altered final:  0.9985620106211283\n",
      "confidence interval:  [0.6045317471956421, 0.6137964073124645]\n",
      "deltas coming from simulation:  [0.13570568417388207, 0]\n",
      "Specie:  M_MKP3 expected result:  increased  normal final:  61.45814911601891  altered final:  80.84449548884382\n",
      "confidence interval:  [0.2602134547687834, 0.2729493130097812]\n",
      "deltas coming from simulation:  [19.38634637282491, 0]\n",
      "reaction_0  total species:  11 correct species:  7 ratio:  0.6363636363636364\n"
     ]
    }
   ],
   "source": [
    "total_species = 0\n",
    "uncertain_species = 0\n",
    "correct_species = 0\n",
    "true_positives = 0\n",
    "false_positives = 0\n",
    "false_negatives = 0\n",
    "true_negatives = 0 \n",
    "deltas_normal = []\n",
    "deltas_uncertain = []\n",
    "\n",
    "complete_results = defaultdict()\n",
    "for directory in list(os.listdir('altered_pathways2')):\n",
    "    if directory == '.DS_Store':\n",
    "        continue\n",
    "    dir = os.path.join('altered_pathways2', directory)\n",
    "    files = os.listdir(dir)\n",
    "    description_index = 0\n",
    "    altered_file_index = 0\n",
    "    \n",
    "    for i in range(len(files)):\n",
    "        if files[i] == 'description':\n",
    "            description_index = i\n",
    "        elif files[i] != 'description' and files[i] != 'results':\n",
    "            altered_file_index = i\n",
    "    \n",
    "            \n",
    "    res = complete_tests.complete_tests2(\n",
    "            'BIOMD0000000026.xml',\n",
    "            os.path.join(dir, files[altered_file_index]),\n",
    "            os.path.join(dir, 'description'),\n",
    "            []\n",
    "        )\n",
    "    \n",
    "    '''complete_results_path = os.path.join(dir, 'results')\n",
    "    complete_results_file = open(complete_results_path, 'wb')\n",
    "    pickle.dump(res, complete_results_file)\n",
    "    complete_results_file.close()'''\n",
    "        \n",
    "    insights, all, uncertain, d_normal, d_uncertain = complete_tests.get_insights_confidence_intervals('altered', res, 1, detailed_classification=False, threshold=0, ignore_uncertain=False)\n",
    "    \n",
    "    total_species += all\n",
    "    uncertain_species += uncertain\n",
    "    \n",
    "    for d in d_normal:\n",
    "        deltas_normal.append(d)\n",
    "    for d in d_uncertain:\n",
    "        deltas_uncertain.append(d)\n",
    "        \n",
    "    total_count = 0\n",
    "    correct_count = 0\n",
    "    for specie in insights.keys():\n",
    "        \n",
    "        if insights[specie][0] == 0 or insights[specie][1][1] == 0.5:\n",
    "            continue\n",
    "        \n",
    "        total_count += 1\n",
    "        if insights[specie][0] == insights[specie][1][0]:\n",
    "            correct_count += 1\n",
    "            correct_species += 1\n",
    "        \n",
    "        if insights[specie][1][0] == insights[specie][0] == 1:\n",
    "            true_positives += 1\n",
    "        elif insights[specie][1][0] == insights[specie][0] == -1:\n",
    "            true_negatives += 1\n",
    "        elif insights[specie][1][0] == 1 and insights[specie][0] == -1:\n",
    "            false_positives += 1\n",
    "        elif insights[specie][1][0] == -1 and insights[specie][0] == 1:\n",
    "            false_negatives += 1\n",
    "        \n",
    "        \n",
    "         \n",
    "    print(directory, ' total species: ', total_count, 'correct species: ', correct_count, 'ratio: ', correct_count/total_count)\n",
    "    complete_results[directory] = correct_count / total_count\n",
    "    "
   ],
   "metadata": {
    "collapsed": false,
    "ExecuteTime": {
     "end_time": "2025-06-27T18:11:42.411331Z",
     "start_time": "2025-06-27T18:10:45.768746Z"
    },
    "pycharm": {
     "name": "#%%\n"
    }
   },
   "id": "14affdc7d25200fd",
   "execution_count": 2
  },
  {
   "cell_type": "code",
   "outputs": [
    {
     "name": "stdout",
     "output_type": "stream",
     "text": [
      "Average score:  0.6931818181818181\n"
     ]
    }
   ],
   "source": [
    "scores = []\n",
    "for experiment in complete_results.keys():\n",
    "    scores.append(complete_results[experiment])\n",
    "print('Average score: ', np.average(np.array(scores)))"
   ],
   "metadata": {
    "collapsed": false,
    "ExecuteTime": {
     "end_time": "2025-06-27T18:11:47.063990Z",
     "start_time": "2025-06-27T18:11:47.040675Z"
    },
    "pycharm": {
     "name": "#%%\n"
    }
   },
   "id": "44992e703b7e5066",
   "execution_count": 3
  },
  {
   "cell_type": "code",
   "outputs": [
    {
     "data": {
      "text/plain": "{'total_species': 442,\n 'uncertain_species': 22,\n 'correct_species': 313,\n 'true_positives': 159,\n 'false_positives': 62,\n 'false_negatives': 67,\n 'true_negatives': 154}"
     },
     "execution_count": 4,
     "metadata": {},
     "output_type": "execute_result"
    }
   ],
   "source": [
    "results_path = '../../../results/real_dataset/large_class/results'\n",
    "results_file = open(results_path, 'rb')\n",
    "partial_results = pickle.load(results_file)\n",
    "results_file.close()\n",
    "partial_results"
   ],
   "metadata": {
    "collapsed": false,
    "ExecuteTime": {
     "end_time": "2025-06-27T18:11:51.514184Z",
     "start_time": "2025-06-27T18:11:51.456282Z"
    },
    "pycharm": {
     "name": "#%%\n"
    }
   },
   "id": "124d40f00205da6e",
   "execution_count": 4
  },
  {
   "cell_type": "code",
   "outputs": [
    {
     "name": "stdout",
     "output_type": "stream",
     "text": [
      "total:  176  correct:  122  uncertain:  0  true pos:  57  true neg:  65  false_pos:  31 false neg:  23\n"
     ]
    }
   ],
   "source": [
    "print('total: ', total_species, ' correct: ', correct_species, ' uncertain: ', uncertain_species, ' true pos: ', true_positives, ' true neg: ', true_negatives, ' false_pos: ', false_positives, 'false neg: ', false_negatives,)"
   ],
   "metadata": {
    "collapsed": false,
    "ExecuteTime": {
     "end_time": "2025-06-27T18:11:59.801756Z",
     "start_time": "2025-06-27T18:11:59.750777Z"
    },
    "pycharm": {
     "name": "#%%\n"
    }
   },
   "id": "bb95a8382c2204a",
   "execution_count": 4
  },
  {
   "cell_type": "code",
   "outputs": [],
   "source": [
    "partial_results['total_species'] += total_species\n",
    "partial_results['uncertain_species'] += uncertain_species\n",
    "partial_results['correct_species'] += correct_species\n",
    "partial_results['true_positives'] += true_positives\n",
    "partial_results['false_positives'] += false_positives\n",
    "partial_results['true_negatives'] += true_negatives\n",
    "partial_results['false_negatives'] += false_negatives"
   ],
   "metadata": {
    "collapsed": false,
    "ExecuteTime": {
     "end_time": "2025-06-27T18:12:03.099171Z",
     "start_time": "2025-06-27T18:12:03.091519Z"
    },
    "pycharm": {
     "name": "#%%\n"
    }
   },
   "id": "c980617d6b93deb6",
   "execution_count": 6
  },
  {
   "cell_type": "code",
   "outputs": [],
   "source": [
    "results_path = '../../../results/real_dataset/large_class/results'\n",
    "results_file = open(results_path, 'wb')\n",
    "pickle.dump(partial_results, results_file)\n",
    "results_file.close()"
   ],
   "metadata": {
    "collapsed": false,
    "ExecuteTime": {
     "end_time": "2025-06-27T18:12:05.295168Z",
     "start_time": "2025-06-27T18:12:05.215675Z"
    },
    "pycharm": {
     "name": "#%%\n"
    }
   },
   "id": "dfcd8b9ac09767ec",
   "execution_count": 7
  },
  {
   "cell_type": "code",
   "outputs": [
    {
     "data": {
      "text/plain": "[0.5454545454545454,\n 0.5454545454545454,\n 0.45454545454545453,\n 0.7272727272727273,\n 0.7272727272727273,\n 0.8181818181818182,\n 0.5454545454545454,\n 0.8181818181818182,\n 0.6363636363636364,\n 0.9090909090909091,\n 0.8181818181818182,\n 0.6363636363636364,\n 0.8181818181818182,\n 0.5454545454545454,\n 0.9090909090909091,\n 0.7272727272727273]"
     },
     "execution_count": 4,
     "metadata": {},
     "output_type": "execute_result"
    }
   ],
   "source": [
    "scores"
   ],
   "metadata": {
    "collapsed": false,
    "ExecuteTime": {
     "end_time": "2024-11-06T19:41:43.724605Z",
     "start_time": "2024-11-06T19:41:43.709383Z"
    },
    "pycharm": {
     "name": "#%%\n"
    }
   },
   "id": "c10700bacc5428d2",
   "execution_count": 4
  },
  {
   "cell_type": "code",
   "outputs": [],
   "source": [
    "description"
   ],
   "metadata": {
    "collapsed": false,
    "ExecuteTime": {
     "start_time": "2024-11-05T18:13:14.144528Z"
    },
    "pycharm": {
     "name": "#%%\n"
    }
   },
   "id": "1841ed428d3c451f",
   "execution_count": null
  },
  {
   "cell_type": "code",
   "outputs": [],
   "source": [
    "description['altered'] = 'v1a'\n",
    "description"
   ],
   "metadata": {
    "collapsed": false,
    "ExecuteTime": {
     "start_time": "2024-11-05T18:13:14.146096Z"
    },
    "pycharm": {
     "name": "#%%\n"
    }
   },
   "id": "e84cd70911ad96f0",
   "execution_count": null
  },
  {
   "cell_type": "code",
   "outputs": [],
   "source": [
    "graph = functions.generate_graph(description)\n",
    "functions.plot_graph(graph)"
   ],
   "metadata": {
    "collapsed": false,
    "ExecuteTime": {
     "start_time": "2024-11-05T18:13:14.148115Z"
    },
    "pycharm": {
     "name": "#%%\n"
    }
   },
   "id": "b49aa3a390985e61",
   "execution_count": null
  },
  {
   "cell_type": "code",
   "outputs": [],
   "source": [
    "description_path = 'description_reaction1_altered'\n",
    "description_file = open(description_path, 'wb')\n",
    "pickle.dump(description, description_file)\n",
    "description_file.close()"
   ],
   "metadata": {
    "collapsed": false,
    "ExecuteTime": {
     "start_time": "2024-11-05T18:13:14.149622Z"
    },
    "pycharm": {
     "name": "#%%\n"
    }
   },
   "id": "c008525cc0c4de5",
   "execution_count": null
  },
  {
   "cell_type": "code",
   "outputs": [],
   "source": [
    "final_concentrations_normal = functions.plot_simulation_complete('BIOMD0000000026.xml')"
   ],
   "metadata": {
    "collapsed": false,
    "ExecuteTime": {
     "start_time": "2024-11-05T18:13:14.150965Z"
    },
    "pycharm": {
     "name": "#%%\n"
    }
   },
   "id": "df61777363021dfc",
   "execution_count": null
  },
  {
   "cell_type": "code",
   "outputs": [],
   "source": [
    "final_concentrations_altered = functions.plot_simulation_complete('BIOMD0000000026_reaction1_100x.xml')"
   ],
   "metadata": {
    "collapsed": false,
    "ExecuteTime": {
     "start_time": "2024-11-05T18:13:14.152351Z"
    },
    "pycharm": {
     "name": "#%%\n"
    }
   },
   "id": "8e140ddd61e5689",
   "execution_count": null
  },
  {
   "cell_type": "code",
   "outputs": [],
   "source": [
    "species = description['species']\n",
    "species"
   ],
   "metadata": {
    "collapsed": false,
    "ExecuteTime": {
     "start_time": "2024-11-05T18:13:14.154422Z"
    },
    "pycharm": {
     "name": "#%%\n"
    }
   },
   "id": "dcebedf761f97ecb",
   "execution_count": null
  },
  {
   "cell_type": "code",
   "outputs": [],
   "source": [
    "final_normal = final_concentrations_normal[0][-1]\n",
    "final_altered = final_concentrations_altered[0][-1]"
   ],
   "metadata": {
    "collapsed": false,
    "ExecuteTime": {
     "start_time": "2024-11-05T18:13:14.156375Z"
    },
    "pycharm": {
     "name": "#%%\n"
    }
   },
   "id": "eb0efd975b6d4fbf",
   "execution_count": null
  },
  {
   "cell_type": "code",
   "outputs": [],
   "source": [
    "final_normal"
   ],
   "metadata": {
    "collapsed": false,
    "ExecuteTime": {
     "start_time": "2024-11-05T18:13:14.157289Z"
    },
    "pycharm": {
     "name": "#%%\n"
    }
   },
   "id": "765c84ceb168b5a4",
   "execution_count": null
  },
  {
   "cell_type": "code",
   "outputs": [],
   "source": [
    "temp = final_concentrations_normal[1]\n",
    "temp"
   ],
   "metadata": {
    "collapsed": false,
    "ExecuteTime": {
     "start_time": "2024-11-05T18:13:14.158645Z"
    },
    "pycharm": {
     "name": "#%%\n"
    }
   },
   "id": "1e0a1b4b4f70d709",
   "execution_count": null
  },
  {
   "cell_type": "code",
   "outputs": [],
   "source": [
    "import math\n",
    "expected_results = {}\n",
    "for i in range(len(species)):\n",
    "    delta1 = 0\n",
    "    delta2 = 0\n",
    "    print(species[i])\n",
    "    if final_normal[i + 1] != 0:\n",
    "        if temp[i] != 0:\n",
    "            initial_concentration = temp[i]\n",
    "            delta1 = math.fabs((final_altered[i + 1] - final_normal[i + 1]) / initial_concentration)\n",
    "            delta2 = math.fabs(1 - (final_altered[i + 1] / final_normal[i + 1]))\n",
    "            paired_delta = delta1 * delta2\n",
    "        else:\n",
    "            delta2 = math.fabs(1 - (final_altered[i + 1] / final_normal[i + 1]))\n",
    "            paired_delta = delta2 / 100\n",
    "            \n",
    "        relative_delta = (final_altered[i + 1] - final_normal[i + 1]) / final_normal[i + 1]\n",
    "        \n",
    "    else: \n",
    "        relative_delta = 0\n",
    "        \n",
    "    if paired_delta >= 0.001 and final_altered[i + 1] < final_normal[i + 1]:\n",
    "        expected_results[species[i]] = 'decreased'\n",
    "    elif paired_delta >= 0.001 and final_altered[i + 1] > final_normal[i + 1]:\n",
    "        expected_results[species[i]] = 'increased'\n",
    "    else:\n",
    "        expected_results[species[i]] = 'unchanged'\n",
    "    \n",
    "    print('final normal: ', final_normal[i + 1], 'final altered: ', final_altered[i + 1], 'delta: ', final_altered[i + 1] - final_normal[i + 1], 'relative delta ', relative_delta, 'initial concentration: ', temp[i], 'delta1', delta1, 'delta2', delta2)"
   ],
   "metadata": {
    "collapsed": false,
    "ExecuteTime": {
     "start_time": "2024-11-05T18:13:14.160286Z"
    },
    "pycharm": {
     "name": "#%%\n"
    }
   },
   "id": "f5897a5729cbc41a",
   "execution_count": null
  },
  {
   "cell_type": "code",
   "outputs": [],
   "source": [
    "expected_results"
   ],
   "metadata": {
    "collapsed": false,
    "ExecuteTime": {
     "start_time": "2024-11-05T18:13:14.161201Z"
    },
    "pycharm": {
     "name": "#%%\n"
    }
   },
   "id": "8b36f8345c80ca80",
   "execution_count": null
  },
  {
   "cell_type": "code",
   "outputs": [],
   "source": [
    "description['reactions'][13][1] = 0.2"
   ],
   "metadata": {
    "collapsed": false,
    "ExecuteTime": {
     "start_time": "2024-11-05T18:13:14.162017Z"
    },
    "pycharm": {
     "name": "#%%\n"
    }
   },
   "id": "151103d54857ef13",
   "execution_count": null
  },
  {
   "cell_type": "code",
   "outputs": [],
   "source": [
    "for i in range(len(description['reactions'])):\n",
    "    description['reactions'][i][2] = random.uniform(0, 1)\n",
    "    description['reactions'][i].append([])"
   ],
   "metadata": {
    "collapsed": false,
    "ExecuteTime": {
     "start_time": "2024-11-05T18:13:14.162789Z"
    },
    "pycharm": {
     "name": "#%%\n"
    }
   },
   "id": "ad7fb5d1efacfd8c",
   "execution_count": null
  },
  {
   "cell_type": "code",
   "outputs": [],
   "source": [
    "graph = graph_functions.generate_graph(description)"
   ],
   "metadata": {
    "collapsed": false,
    "ExecuteTime": {
     "start_time": "2024-11-05T18:13:14.163525Z"
    },
    "pycharm": {
     "name": "#%%\n"
    }
   },
   "id": "d54fa4efe7e201e9",
   "execution_count": null
  },
  {
   "cell_type": "code",
   "outputs": [],
   "source": [
    "species_propagation = []\n",
    "for i in range(100):\n",
    "    print(\"ITERATION \", i)\n",
    "    species_propagation.append(graph_functions.update_graph(graph, 1, i + 1))"
   ],
   "metadata": {
    "collapsed": false,
    "ExecuteTime": {
     "start_time": "2024-11-05T18:13:14.164256Z"
    },
    "pycharm": {
     "name": "#%%\n"
    }
   },
   "id": "28dbd085c4d566e4",
   "execution_count": null
  },
  {
   "cell_type": "code",
   "outputs": [],
   "source": [
    "species_propagation"
   ],
   "metadata": {
    "collapsed": false,
    "ExecuteTime": {
     "start_time": "2024-11-05T18:13:14.165059Z"
    },
    "pycharm": {
     "name": "#%%\n"
    }
   },
   "id": "5c4dcef01c9e290b",
   "execution_count": null
  },
  {
   "cell_type": "code",
   "outputs": [],
   "source": [
    "import matplotlib.pyplot as plt\n",
    "concentrations = [conc['MAPKK'] for conc in species_propagation]\n",
    "concentrations\n",
    "plt.plot(concentrations[0:500])"
   ],
   "metadata": {
    "collapsed": false,
    "ExecuteTime": {
     "start_time": "2024-11-05T18:13:14.165810Z"
    },
    "pycharm": {
     "name": "#%%\n"
    }
   },
   "id": "713552e31d5dd2dd",
   "execution_count": null
  },
  {
   "cell_type": "code",
   "outputs": [],
   "source": [
    "final_propagation = species_propagation[-1]\n",
    "for s in final_propagation.keys():\n",
    "    print(s, 'propagation results: ', final_propagation[s], 'simulation results: ', expected_results[s])"
   ],
   "metadata": {
    "collapsed": false,
    "ExecuteTime": {
     "start_time": "2024-11-05T18:13:14.166509Z"
    },
    "pycharm": {
     "name": "#%%\n"
    }
   },
   "id": "758609bd476f1d54",
   "execution_count": null
  },
  {
   "cell_type": "code",
   "outputs": [],
   "source": [
    "res = complete_tests.complete_tests2(\n",
    "            'BIOMD0000000026.xml',\n",
    "            'altered_pathways/reaction_12/reaction_12100x.xml',\n",
    "            'altered_pathways/reaction_12/description',\n",
    "            []\n",
    "        )"
   ],
   "metadata": {
    "collapsed": false,
    "ExecuteTime": {
     "start_time": "2024-11-05T18:13:14.167378Z"
    },
    "pycharm": {
     "name": "#%%\n"
    }
   },
   "id": "43f89211a9d45fd8",
   "execution_count": null
  },
  {
   "cell_type": "code",
   "outputs": [],
   "source": [
    "insights = complete_tests.get_insigths('altered', res, 1, detailed_classification=True, threshold=0)"
   ],
   "metadata": {
    "collapsed": false,
    "ExecuteTime": {
     "start_time": "2024-11-05T18:13:14.168192Z"
    },
    "pycharm": {
     "name": "#%%\n"
    }
   },
   "id": "fee477cd36952387",
   "execution_count": null
  },
  {
   "cell_type": "code",
   "outputs": [],
   "source": [
    "total_count = 0\n",
    "correct_count = 0\n",
    "for specie in insights.keys():\n",
    "    total_count += 1\n",
    "    if insights[specie][0] == insights[specie][1]:\n",
    "        correct_count += 1\n",
    "print('total experiments: ', total_count, 'correct experiments: ', correct_count, 'ratio: ', correct_count/total_count)"
   ],
   "metadata": {
    "collapsed": false,
    "ExecuteTime": {
     "start_time": "2024-11-05T18:13:14.169034Z"
    },
    "pycharm": {
     "name": "#%%\n"
    }
   },
   "id": "bfe521597747e5ed",
   "execution_count": null
  },
  {
   "cell_type": "code",
   "outputs": [],
   "source": [
    "total_count = 0\n",
    "correct_count = 0\n",
    "for specie in insights[2].keys():\n",
    "    if expected_results[specie] != 'unchanged':\n",
    "        total_count += 1\n",
    "    if type(specie) != type(''):\n",
    "        continue\n",
    "    print('specie: ', specie)\n",
    "    scores = np.array(insights[2][specie][-1])\n",
    "    mean = np.mean(scores)\n",
    "    std = np.std(scores)\n",
    "    std_error = std / np.sqrt(len(scores))\n",
    "    margin = 2 * std_error\n",
    "    lower = mean - margin\n",
    "    higher = mean + margin\n",
    "    print(' lower: ', lower, ' higher: ', higher)\n",
    "    if lower > 0.5: \n",
    "        print('increase, expected: ', expected_results[specie])\n",
    "        if expected_results[specie] == 'increased':\n",
    "            correct_count += 1\n",
    "        \n",
    "    else: \n",
    "        print('decrease, expected: ', expected_results[specie])\n",
    "        if expected_results[specie] == 'decreased':\n",
    "            correct_count += 1\n",
    "print('ratio correct: ', correct_count / total_count, 'correct: ', correct_count, 'total: ', total_count)"
   ],
   "metadata": {
    "collapsed": false,
    "ExecuteTime": {
     "start_time": "2024-11-05T18:13:14.169904Z"
    },
    "pycharm": {
     "name": "#%%\n"
    }
   },
   "id": "18f7eeac115ee96f",
   "execution_count": null
  },
  {
   "cell_type": "code",
   "outputs": [],
   "source": [
    "import pandas as pd \n",
    "import seaborn as sns\n",
    "scores = np.array(insights['MAPKK'][-1])\n",
    "df = pd.DataFrame(scores)\n",
    "sns.histplot(df, kde=True, bins=100)"
   ],
   "metadata": {
    "collapsed": false,
    "ExecuteTime": {
     "start_time": "2024-11-05T18:13:14.170705Z"
    },
    "pycharm": {
     "name": "#%%\n"
    }
   },
   "id": "47dccf284e1120a",
   "execution_count": null
  },
  {
   "cell_type": "code",
   "outputs": [],
   "source": [
    "insights['MAPKK']"
   ],
   "metadata": {
    "collapsed": false,
    "ExecuteTime": {
     "start_time": "2024-11-05T18:13:14.171482Z"
    },
    "pycharm": {
     "name": "#%%\n"
    }
   },
   "id": "c33794d16f6dc13e",
   "execution_count": null
  },
  {
   "cell_type": "code",
   "outputs": [],
   "source": [],
   "metadata": {
    "collapsed": false,
    "ExecuteTime": {
     "start_time": "2024-11-05T18:13:14.172633Z"
    },
    "pycharm": {
     "name": "#%%\n"
    }
   },
   "id": "b1cfd9ae3422ca43"
  }
 ],
 "metadata": {
  "kernelspec": {
   "display_name": "Python 3",
   "language": "python",
   "name": "python3"
  },
  "language_info": {
   "codemirror_mode": {
    "name": "ipython",
    "version": 2
   },
   "file_extension": ".py",
   "mimetype": "text/x-python",
   "name": "python",
   "nbconvert_exporter": "python",
   "pygments_lexer": "ipython2",
   "version": "2.7.6"
  }
 },
 "nbformat": 4,
 "nbformat_minor": 5
}